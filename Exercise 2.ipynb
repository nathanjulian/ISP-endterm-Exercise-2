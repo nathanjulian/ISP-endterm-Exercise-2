{
 "cells": [
  {
   "cell_type": "code",
   "execution_count": 12,
   "metadata": {},
   "outputs": [],
   "source": [
    "import os"
   ]
  },
  {
   "cell_type": "code",
   "execution_count": 11,
   "metadata": {},
   "outputs": [],
   "source": [
    "def read_file_as_int(file_name):\n",
    "    file_as_int = []\n",
    "    with open(file_name, \"rb\") as f:\n",
    "        filesize = os.path.getsize(file_name)\n",
    "        while True:\n",
    "            bytes = f.read(filesize)\n",
    "            if bytes:\n",
    "                for byte in bytes:\n",
    "                    file_as_int.append(byte)\n",
    "                else:\n",
    "                    break\n",
    "        f.close()\n",
    "\n",
    "        print(filesize)\n",
    "        \n",
    "    return file_as_int"
   ]
  },
  {
   "cell_type": "code",
   "execution_count": null,
   "metadata": {},
   "outputs": [],
   "source": [
    "def rice_encoding_4(int_file):\n",
    "    k = 4\n",
    "    M = 2**k\n",
    "    bit_string = \"\"\n",
    "    for S in file_as_int:\n",
    "        q = int(S/M)\n",
    "        r = S%M\n",
    "        unary = \"\"\n",
    "        for u in range(q):\n",
    "            unary += \"1\"\n",
    "        unary += \"0\"\n",
    "        r_bin = format(r, \"b\")\n",
    "        bit = unary + r_bin\n",
    "        bit_string += bit\n",
    "    \n",
    "    return bit_string"
   ]
  },
  {
   "cell_type": "code",
   "execution_count": null,
   "metadata": {},
   "outputs": [],
   "source": [
    "def rice_encoding_2(int_file):\n",
    "    k = 2\n",
    "    M = 2**k\n",
    "    bit_string = \"\"\n",
    "    for S in file_as_int:\n",
    "        q = int(S/M)\n",
    "        r = S%M\n",
    "        unary = \"\"\n",
    "        for u in range(q):\n",
    "            unary += \"1\"\n",
    "        unary += \"0\"\n",
    "        r_bin = format(r, \"b\")\n",
    "        bit = unary + r_bin\n",
    "        bit_string += bit\n",
    "    \n",
    "    return bit_string"
   ]
  },
  {
   "cell_type": "code",
   "execution_count": null,
   "metadata": {},
   "outputs": [],
   "source": [
    "def write_to_file(bit_string, encoded_file_name):\n",
    "    i = 0\n",
    "    buffer = bytearray()\n",
    "    while i < len(bit_string):\n",
    "        buffer.append( int(bit_string[i:i+8], 2) )\n",
    "        i += 8\n",
    "\n",
    "    encoded_file = open(encoded_file_name, \"wb\")\n",
    "    encoded_file.write(buffer)\n",
    "    encoded_file.close"
   ]
  }
 ],
 "metadata": {
  "kernelspec": {
   "display_name": "Python 3",
   "language": "python",
   "name": "python3"
  },
  "language_info": {
   "codemirror_mode": {
    "name": "ipython",
    "version": 3
   },
   "file_extension": ".py",
   "mimetype": "text/x-python",
   "name": "python",
   "nbconvert_exporter": "python",
   "pygments_lexer": "ipython3",
   "version": "3.8.5"
  }
 },
 "nbformat": 4,
 "nbformat_minor": 4
}
