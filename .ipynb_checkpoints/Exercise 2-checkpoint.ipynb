{
 "cells": [
  {
   "cell_type": "markdown",
   "metadata": {},
   "source": [
    "# Encoding"
   ]
  },
  {
   "cell_type": "markdown",
   "metadata": {},
   "source": [
    "We will be using 4 functions to help us with encoding: read_file_as_int(), rice_encoding_4(), rice_encoding_2(), and write_to_binfile()"
   ]
  },
  {
   "cell_type": "markdown",
   "metadata": {},
   "source": [
    "First, we have to import the necessary libraries"
   ]
  },
  {
   "cell_type": "code",
   "execution_count": 1,
   "metadata": {},
   "outputs": [],
   "source": [
    "import os"
   ]
  },
  {
   "cell_type": "markdown",
   "metadata": {},
   "source": [
    "The read_file_as_int() function reads a file, and converts the file into a list of binary integers which we need for encoding. It takes the file path as input so as to retrieve the file, then reads the bytes in the specified file and adds it to the list. It then prints the size of the original file for reference."
   ]
  },
  {
   "cell_type": "code",
   "execution_count": 2,
   "metadata": {},
   "outputs": [],
   "source": [
    "def read_file_as_int(file_name):\n",
    "    file_as_int = []\n",
    "    with open(file_name, \"rb\") as f:\n",
    "        filesize = os.path.getsize(file_name)\n",
    "        while True:\n",
    "            bytes = f.read(filesize)\n",
    "            if bytes:\n",
    "                for byte in bytes:\n",
    "                    file_as_int.append(byte)\n",
    "                else:\n",
    "                    break\n",
    "        f.close()\n",
    "\n",
    "        print(filesize)\n",
    "        \n",
    "    return file_as_int"
   ]
  },
  {
   "cell_type": "markdown",
   "metadata": {},
   "source": [
    "The rice_encoding_4() and rice_encoding_2() functions do basically the same things, except the former performs the rice coding compression in 4 bits while the latter does it in 2 bits\n",
    "\n",
    "The function first specifies the value of k, which is the compression bit length, to either 4 or 2, depending on the function, and calculates the value of M, which is found by M = 2\\**k. \n",
    "\n",
    "It then loops through the integers in the input list to calculate the values of q and r. q is the quotient of the integer value divided by M. r is the remainder of the integer value divided by M\n",
    "\n",
    "q is then written in unary to a string, bit_string, and r is converted from decimal binary and added to the end of bit_string"
   ]
  },
  {
   "cell_type": "code",
   "execution_count": 3,
   "metadata": {},
   "outputs": [],
   "source": [
    "def rice_encoding_4(int_file):\n",
    "    k = 4\n",
    "    M = 2**k\n",
    "    bit_string = \"\"\n",
    "    for S in int_file:\n",
    "        q = int(S/M)\n",
    "        r = S%M\n",
    "        unary = \"\"\n",
    "        for u in range(q):\n",
    "            unary += \"1\"\n",
    "        unary += \"0\"\n",
    "        r_bin = format(r, \"b\")\n",
    "        bit = unary + r_bin\n",
    "        bit_string += bit\n",
    "    \n",
    "    return bit_string"
   ]
  },
  {
   "cell_type": "code",
   "execution_count": 4,
   "metadata": {},
   "outputs": [],
   "source": [
    "def rice_encoding_2(int_file):\n",
    "    k = 2\n",
    "    M = 2**k\n",
    "    bit_string = \"\"\n",
    "    for S in int_file:\n",
    "        q = int(S/M)\n",
    "        r = S%M\n",
    "        unary = \"\"\n",
    "        for u in range(q):\n",
    "            unary += \"1\"\n",
    "        unary += \"0\"\n",
    "        r_bin = format(r, \"b\")\n",
    "        bit = unary + r_bin\n",
    "        bit_string += bit\n",
    "    \n",
    "    return bit_string"
   ]
  },
  {
   "cell_type": "markdown",
   "metadata": {},
   "source": [
    "The function write_to_binfile() takes the bit string produced from the rice encoding function converts it to a bytearray, and writes the bytearray to a new specified file"
   ]
  },
  {
   "cell_type": "code",
   "execution_count": 5,
   "metadata": {},
   "outputs": [],
   "source": [
    "def write_to_binfile(bit_string, encoded_file_name):\n",
    "    i = 0\n",
    "    buffer = bytearray()\n",
    "    while i < len(bit_string):\n",
    "        buffer.append( int(bit_string[i:i+8], 2) )\n",
    "        i += 8\n",
    "\n",
    "    encoded_file = open(encoded_file_name, \"wb\")\n",
    "    encoded_file.write(buffer)\n",
    "    encoded_file.close"
   ]
  },
  {
   "cell_type": "markdown",
   "metadata": {},
   "source": [
    "# Decoding"
   ]
  },
  {
   "cell_type": "code",
   "execution_count": 6,
   "metadata": {},
   "outputs": [
    {
     "name": "stdout",
     "output_type": "stream",
     "text": [
      "1370895\n",
      "[250, 244, 251, 123, 126, 122, 158, 125, 253, 251, 122, 254, 223, 183, 250, 100, 1, 19, 211, 255]\n"
     ]
    }
   ],
   "source": [
    "file_as_int = []\n",
    "with open(\"Sound1.ex2\", \"rb\") as f:\n",
    "    filesize = os.path.getsize(\"Sound1.ex2\")\n",
    "    while True:\n",
    "        bytes = f.read(filesize)\n",
    "        if bytes:\n",
    "            for byte in bytes:\n",
    "                file_as_int.append(byte)\n",
    "            else:\n",
    "                break\n",
    "    f.close()\n",
    "\n",
    "    print(filesize)\n",
    "    print(file_as_int[0:20])"
   ]
  },
  {
   "cell_type": "code",
   "execution_count": 7,
   "metadata": {},
   "outputs": [],
   "source": [
    "k = 4\n",
    "M = 2**k"
   ]
  },
  {
   "cell_type": "code",
   "execution_count": 8,
   "metadata": {},
   "outputs": [
    {
     "name": "stdout",
     "output_type": "stream",
     "text": [
      "bytearray(b'RDSC`B\\x13QaSBp\\'\\x16R\"\\x10\\x13$\\x80')\n"
     ]
    }
   ],
   "source": [
    "byte_array = bytearray()\n",
    "for i in file_as_int:\n",
    "    q = 0\n",
    "    r_string = \"\"\n",
    "    bin_val = bin(i).replace(\"0b\",\"\")\n",
    "    \n",
    "    for val in bin_val:\n",
    "        if val == \"1\":\n",
    "            q += 1\n",
    "        else:\n",
    "            break\n",
    "    \n",
    "    r_string = bin_val[q:q+k]\n",
    "    if r_string == \"\":\n",
    "        r_string = \"0\"\n",
    "\n",
    "    r = int(r_string, 2)\n",
    "    S = q*M +r\n",
    "\n",
    "    byte_array.append(S)    \n",
    "    \n",
    "print (byte_array[0:20])"
   ]
  },
  {
   "cell_type": "code",
   "execution_count": 10,
   "metadata": {},
   "outputs": [
    {
     "data": {
      "text/plain": [
       "<function BufferedWriter.close>"
      ]
     },
     "execution_count": 10,
     "metadata": {},
     "output_type": "execute_result"
    }
   ],
   "source": [
    "encoded_file = open(\"Sound1.enc.wav\", \"wb\")\n",
    "encoded_file.write(byte_array)\n",
    "encoded_file.close"
   ]
  }
 ],
 "metadata": {
  "kernelspec": {
   "display_name": "Python 3",
   "language": "python",
   "name": "python3"
  },
  "language_info": {
   "codemirror_mode": {
    "name": "ipython",
    "version": 3
   },
   "file_extension": ".py",
   "mimetype": "text/x-python",
   "name": "python",
   "nbconvert_exporter": "python",
   "pygments_lexer": "ipython3",
   "version": "3.8.5"
  }
 },
 "nbformat": 4,
 "nbformat_minor": 4
}
