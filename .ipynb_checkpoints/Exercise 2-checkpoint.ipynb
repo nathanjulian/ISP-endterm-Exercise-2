{
 "cells": [
  {
   "cell_type": "code",
   "execution_count": 1,
   "metadata": {},
   "outputs": [
    {
     "name": "stdout",
     "output_type": "stream",
     "text": [
      "1002088\n"
     ]
    }
   ],
   "source": [
    "import os\n",
    "\n",
    "file_as_int = []\n",
    "with open(\"Sound1.wav\", \"rb\") as f:\n",
    "    filesize = os.path.getsize('Sound1.wav')\n",
    "    while True:\n",
    "        bytes = f.read(filesize)\n",
    "        if bytes:\n",
    "            for byte in bytes:\n",
    "                file_as_int.append(byte)\n",
    "            else:\n",
    "                break\n",
    "    f.close()\n",
    "    \n",
    "    print(filesize)"
   ]
  },
  {
   "cell_type": "code",
   "execution_count": 2,
   "metadata": {},
   "outputs": [],
   "source": [
    "k = 4\n",
    "M = 2**k"
   ]
  },
  {
   "cell_type": "code",
   "execution_count": 3,
   "metadata": {
    "scrolled": true
   },
   "outputs": [
    {
     "name": "stdout",
     "output_type": "stream",
     "text": [
      "1111101011110100111110110111101101111110011110101001111001111101111111011111101101111010111111101101\n"
     ]
    }
   ],
   "source": [
    "bit_string = \"\"\n",
    "for S in file_as_int:\n",
    "    q = int(S/M)\n",
    "    r = S%M\n",
    "    unary = \"\"\n",
    "    for u in range(q):\n",
    "        unary += \"1\"\n",
    "    unary += \"0\"\n",
    "    r_bin = format(r, \"b\")\n",
    "    bit = unary + r_bin\n",
    "    bit_string += bit\n",
    "    \n",
    "print (bit_string[0:100])"
   ]
  },
  {
   "cell_type": "code",
   "execution_count": null,
   "metadata": {},
   "outputs": [],
   "source": []
  }
 ],
 "metadata": {
  "kernelspec": {
   "display_name": "Python 3",
   "language": "python",
   "name": "python3"
  },
  "language_info": {
   "codemirror_mode": {
    "name": "ipython",
    "version": 3
   },
   "file_extension": ".py",
   "mimetype": "text/x-python",
   "name": "python",
   "nbconvert_exporter": "python",
   "pygments_lexer": "ipython3",
   "version": "3.8.5"
  }
 },
 "nbformat": 4,
 "nbformat_minor": 4
}
